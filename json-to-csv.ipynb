{
 "cells": [
  {
   "cell_type": "code",
   "execution_count": 2,
   "metadata": {},
   "outputs": [],
   "source": [
    "# import libraries\n",
    "import pandas as pd\n"
   ]
  },
  {
   "cell_type": "code",
   "execution_count": 9,
   "metadata": {},
   "outputs": [
    {
     "name": "stdout",
     "output_type": "stream",
     "text": [
      "Absolute path of the file: /home/philip/nwmissouri/ufcdata/scrape_ufc_stats/data/fighter_data.ndjson\n",
      "                name  nickname  wins  losses  draws  height_cm  weight_in_kg  \\\n",
      "0     Billy Ray Goff      None     9       3      0     177.80         77.11   \n",
      "1  Billy Quarantillo      None    18       7      0     177.80         65.77   \n",
      "2       Louis Taylor  Handgunz    13       4      0     180.34         83.91   \n",
      "3   Caio Bittencourt      Leao    14       7      0     182.88         83.91   \n",
      "4       Alex Gorgees    Hitman     6       1      0     187.96         70.31   \n",
      "\n",
      "   reach_in_cm    stance date_of_birth  significant_strikes_landed_per_minute  \\\n",
      "0       182.88    Switch    1998-06-18                                   8.56   \n",
      "1       177.80  Orthodox    1988-12-08                                   7.44   \n",
      "2          NaN  Orthodox    1979-05-12                                   2.06   \n",
      "3       190.50  Orthodox    1991-05-22                                   0.29   \n",
      "4       187.96    Switch    1995-08-11                                   0.67   \n",
      "\n",
      "   significant_striking_accuracy  significant_strikes_absorbed_per_minute  \\\n",
      "0                             46                                     5.71   \n",
      "1                             54                                     5.83   \n",
      "2                             32                                     1.24   \n",
      "3                             16                                     0.57   \n",
      "4                             32                                     2.27   \n",
      "\n",
      "   significant_strike_defence  average_takedowns_landed_per_15_minutes  \\\n",
      "0                          59                                     2.01   \n",
      "1                          42                                     1.47   \n",
      "2                          68                                     2.48   \n",
      "3                          33                                     0.00   \n",
      "4                          38                                     0.00   \n",
      "\n",
      "   takedown_accuracy  takedown_defense  \\\n",
      "0                 17               100   \n",
      "1                 24                61   \n",
      "2                 28               100   \n",
      "3                  0                 0   \n",
      "4                  0                54   \n",
      "\n",
      "   average_submissions_attempted_per_15_minutes  \n",
      "0                                          8.56  \n",
      "1                                          7.44  \n",
      "2                                          2.06  \n",
      "3                                          0.29  \n",
      "4                                          0.67  \n"
     ]
    }
   ],
   "source": [
    "import os\n",
    "\n",
    "# Check if the file exists and is not empty\n",
    "file_path = 'scrape_ufc_stats/data/fighter_data.ndjson'\n",
    "\n",
    "absolute_path = os.path.abspath(file_path)\n",
    "print(f\"Absolute path of the file: {absolute_path}\")\n",
    "\n",
    "if os.path.exists(absolute_path) and os.path.getsize(absolute_path) > 0:\n",
    "\t# Load the data from the ndjson file\n",
    "\tdf_fight_data = pd.read_json(absolute_path, lines=True)\n",
    "\tprint(df_fight_data.head())\n",
    "else:\n",
    "\tprint(f\"File {absolute_path} does not exist or is empty.\")"
   ]
  },
  {
   "cell_type": "code",
   "execution_count": 10,
   "metadata": {},
   "outputs": [],
   "source": [
    "df_fight_data.to_csv('fighter_data.csv', index=False)"
   ]
  }
 ],
 "metadata": {
  "kernelspec": {
   "display_name": ".venv",
   "language": "python",
   "name": "python3"
  },
  "language_info": {
   "codemirror_mode": {
    "name": "ipython",
    "version": 3
   },
   "file_extension": ".py",
   "mimetype": "text/x-python",
   "name": "python",
   "nbconvert_exporter": "python",
   "pygments_lexer": "ipython3",
   "version": "3.12.3"
  }
 },
 "nbformat": 4,
 "nbformat_minor": 2
}
